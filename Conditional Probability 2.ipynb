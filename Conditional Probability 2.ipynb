{
 "cells": [
  {
   "cell_type": "markdown",
   "metadata": {},
   "source": [
    "# Conditional Probability\n",
    "\n",
    "Suppose a family has 2 children, one of which is a boy. What is the probability that both children are boys?"
   ]
  },
  {
   "cell_type": "code",
   "execution_count": 3,
   "metadata": {},
   "outputs": [
    {
     "data": {
      "text/plain": [
       "[('B', 'B'), ('B', 'G'), ('G', 'B'), ('G', 'G')]"
      ]
     },
     "execution_count": 3,
     "metadata": {},
     "output_type": "execute_result"
    }
   ],
   "source": [
    "import itertools\n",
    "\n",
    "option1 = ['B','G']\n",
    "option2 = ['B','G']\n",
    "\n",
    "\n",
    "possible_outcomes = [(i)for i in itertools.product(option1,option2)]\n",
    "possible_outcomes"
   ]
  },
  {
   "cell_type": "markdown",
   "metadata": {},
   "source": [
    "# Another way"
   ]
  },
  {
   "cell_type": "code",
   "execution_count": 10,
   "metadata": {},
   "outputs": [
    {
     "name": "stdout",
     "output_type": "stream",
     "text": [
      "P(both | older): 0.5007089325501317\n",
      "P(both | either): 0.3311897106109325\n"
     ]
    }
   ],
   "source": [
    "import enum, random\n",
    "class Kid(enum.Enum):\n",
    "    BOY = 0\n",
    "    GIRL = 1\n",
    "    \n",
    "def random_kid() -> Kid:\n",
    "    return random.choice([Kid.BOY, Kid.GIRL])\n",
    "\n",
    "both_girls = 0\n",
    "older_girl = 0\n",
    "either_girl = 0\n",
    "random.seed(0)\n",
    "\n",
    "for _ in range(10000):\n",
    "    younger = random_kid()\n",
    "    older = random_kid()\n",
    "    if older == Kid.GIRL:\n",
    "        older_girl += 1\n",
    "    if older == Kid.GIRL and younger == Kid.GIRL:\n",
    "        both_girls += 1\n",
    "    if older == Kid.GIRL or younger == Kid.GIRL:\n",
    "        either_girl += 1\n",
    "        \n",
    "print(\"P(both | older):\", both_girls / older_girl)   # 0.5007089325501317\n",
    "print(\"P(both | either):\", both_girls / either_girl) # 0.3311897106109325"
   ]
  },
  {
   "cell_type": "code",
   "execution_count": null,
   "metadata": {},
   "outputs": [],
   "source": []
  }
 ],
 "metadata": {
  "kernelspec": {
   "display_name": "Python 3",
   "language": "python",
   "name": "python3"
  },
  "language_info": {
   "codemirror_mode": {
    "name": "ipython",
    "version": 3
   },
   "file_extension": ".py",
   "mimetype": "text/x-python",
   "name": "python",
   "nbconvert_exporter": "python",
   "pygments_lexer": "ipython3",
   "version": "3.8.5"
  }
 },
 "nbformat": 4,
 "nbformat_minor": 4
}
