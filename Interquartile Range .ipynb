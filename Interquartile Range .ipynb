{
 "cells": [
  {
   "cell_type": "markdown",
   "metadata": {},
   "source": [
    "# Interquartile Range\n",
    "https://www.statisticshowto.com/probability-and-statistics/interquartile-range/"
   ]
  },
  {
   "cell_type": "code",
   "execution_count": 29,
   "metadata": {},
   "outputs": [],
   "source": [
    "# Basically just q3 - q1"
   ]
  },
  {
   "cell_type": "code",
   "execution_count": 46,
   "metadata": {},
   "outputs": [],
   "source": [
    "# make function to get iqr data and freq need to be same length.. \n",
    "data = [6, 12, 8, 10, 20, 16]\n",
    "freq = [5, 4, 3, 2, 1, 5] # sum 20\n",
    "\n",
    "def iqr(data,freq):\n",
    "    n= len(data)\n",
    "    s = []\n",
    "    for i in range(n):\n",
    "        s += [data[i]] * freq[i] # multiply \n",
    "        print([data[i]] * freq[i]) # dont need this but shows that you are replicating the data list at each element by a factor of that same index element in freq list\n",
    "    N = len(s)\n",
    "    print(N)\n",
    "    s.sort()\n",
    "    print(s)\n",
    "\n",
    "    if n%2 != 0: # if list is odd then do this \n",
    "        q1 = st.median(s[:N//2]) # split ordered s list into two get first half and get median... essentially q1\n",
    "        print(\"First half\")\n",
    "        print(s[:N//2])\n",
    "        q3 = st.median(s[N//2+1:]) # split ordered s list into two and get second half and get median\n",
    "        print(\"Second half\")\n",
    "        print(s[N//2+1:])\n",
    "\n",
    "    else: # else if it is even length list\n",
    "        q1 = st.median(s[:N//2]) # get first half and median\n",
    "        print(\"First half\")\n",
    "        print(s[:N//2])\n",
    "        q3 = st.median(s[N//2:]) # get second half and media\n",
    "        print(\"Second half\")     \n",
    "        print(s[N//2:])\n",
    "\n",
    "    ir = round(float(q3-q1), 1)\n",
    "    return ir "
   ]
  },
  {
   "cell_type": "code",
   "execution_count": 47,
   "metadata": {},
   "outputs": [
    {
     "name": "stdout",
     "output_type": "stream",
     "text": [
      "[6, 6, 6, 6, 6]\n",
      "[12, 12, 12, 12]\n",
      "[8, 8, 8]\n",
      "[10, 10]\n",
      "[20]\n",
      "[16, 16, 16, 16, 16]\n",
      "20\n",
      "[6, 6, 6, 6, 6, 8, 8, 8, 10, 10, 12, 12, 12, 12, 16, 16, 16, 16, 16, 20]\n",
      "First half\n",
      "[6, 6, 6, 6, 6, 8, 8, 8, 10, 10]\n",
      "Second half\n",
      "[12, 12, 12, 12, 16, 16, 16, 16, 16, 20]\n"
     ]
    },
    {
     "data": {
      "text/plain": [
       "9.0"
      ]
     },
     "execution_count": 47,
     "metadata": {},
     "output_type": "execute_result"
    }
   ],
   "source": [
    "iqr(data,freq)"
   ]
  },
  {
   "cell_type": "code",
   "execution_count": null,
   "metadata": {},
   "outputs": [],
   "source": []
  }
 ],
 "metadata": {
  "kernelspec": {
   "display_name": "Python 3",
   "language": "python",
   "name": "python3"
  },
  "language_info": {
   "codemirror_mode": {
    "name": "ipython",
    "version": 3
   },
   "file_extension": ".py",
   "mimetype": "text/x-python",
   "name": "python",
   "nbconvert_exporter": "python",
   "pygments_lexer": "ipython3",
   "version": "3.8.5"
  }
 },
 "nbformat": 4,
 "nbformat_minor": 4
}
