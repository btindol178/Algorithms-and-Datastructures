{
 "cells": [
  {
   "cell_type": "markdown",
   "metadata": {},
   "source": [
    "# Arry Reversal"
   ]
  },
  {
   "cell_type": "code",
   "execution_count": 34,
   "metadata": {},
   "outputs": [
    {
     "name": "stdout",
     "output_type": "stream",
     "text": [
      "3\n",
      "breaK\n",
      "5\n",
      "breaK\n",
      "2\n",
      "breaK\n",
      "4\n",
      "breaK\n",
      "1\n",
      "breaK\n"
     ]
    },
    {
     "data": {
      "text/plain": [
       "[3, 5, 2, 4, 1]"
      ]
     },
     "execution_count": 34,
     "metadata": {},
     "output_type": "execute_result"
    }
   ],
   "source": [
    "# My solution!\n",
    "\n",
    "arr = [1,4,2,5,3]\n",
    "revarr = []\n",
    "iterx = 1\n",
    "for i in range(len(arr)):\n",
    "    #iterx = 1\n",
    "    revposition = arr[-iterx]\n",
    "    print(revposition)\n",
    "    revarr.append(revposition)\n",
    "    iterx += 1\n",
    "    print(\"breaK\")\n",
    "revarr"
   ]
  },
  {
   "cell_type": "code",
   "execution_count": 40,
   "metadata": {},
   "outputs": [
    {
     "name": "stdout",
     "output_type": "stream",
     "text": [
      "[3]\n",
      "[3, 5]\n",
      "[3, 5, 2]\n",
      "[3, 5, 2, 4]\n",
      "[3, 5, 2, 4, 1]\n"
     ]
    },
    {
     "data": {
      "text/plain": [
       "[3, 5, 2, 4, 1]"
      ]
     },
     "execution_count": 40,
     "metadata": {},
     "output_type": "execute_result"
    }
   ],
   "source": [
    "arr = [1,4,2,5,3]\n",
    "revarr = []\n",
    "for i in range(len(arr)):\n",
    "    popped = arr.pop()\n",
    "    revarr.append(popped)\n",
    "    print(revarr)\n",
    "revarr"
   ]
  },
  {
   "cell_type": "code",
   "execution_count": null,
   "metadata": {},
   "outputs": [],
   "source": []
  }
 ],
 "metadata": {
  "kernelspec": {
   "display_name": "Python 3",
   "language": "python",
   "name": "python3"
  },
  "language_info": {
   "codemirror_mode": {
    "name": "ipython",
    "version": 3
   },
   "file_extension": ".py",
   "mimetype": "text/x-python",
   "name": "python",
   "nbconvert_exporter": "python",
   "pygments_lexer": "ipython3",
   "version": "3.8.5"
  }
 },
 "nbformat": 4,
 "nbformat_minor": 4
}
