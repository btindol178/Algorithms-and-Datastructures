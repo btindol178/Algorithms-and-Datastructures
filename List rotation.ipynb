{
 "cells": [
  {
   "cell_type": "markdown",
   "metadata": {},
   "source": [
    "# Array Rotation\n",
    "A left rotation operation on an array of size n shifts each of the array's elements 1 unit to the left. Given an integer,d , rotate the array that many steps left and return the result."
   ]
  },
  {
   "cell_type": "code",
   "execution_count": 63,
   "metadata": {},
   "outputs": [
    {
     "name": "stdout",
     "output_type": "stream",
     "text": [
      "1\n",
      "2\n"
     ]
    },
    {
     "data": {
      "text/plain": [
       "[3, 4, 5, [1, 2]]"
      ]
     },
     "execution_count": 63,
     "metadata": {},
     "output_type": "execute_result"
    }
   ],
   "source": [
    "arr = [1,2,3,4,5]\n",
    "d = 2\n",
    "emptylist = []\n",
    "arr3 = arr2\n",
    "for i in range(0,d):\n",
    "    #print(i)\n",
    "    #print(arr.pop(0)) # when removing i you aways want to remove the 0th element\n",
    "    end =arr.pop(0)\n",
    "    #print(end)\n",
    "    arr2 = end\n",
    "    emptylist.append(arr2)\n",
    "    \n",
    "    #print(arr + end)\n",
    "    print(arr2)\n",
    "#print(arr)\n",
    "#print(arr)\n",
    "#str(end)\n",
    "arr.append(emptylist)\n",
    "arr"
   ]
  },
  {
   "cell_type": "code",
   "execution_count": 16,
   "metadata": {},
   "outputs": [
    {
     "name": "stdout",
     "output_type": "stream",
     "text": [
      "4\n",
      "5\n",
      "1\n",
      "2\n"
     ]
    }
   ],
   "source": [
    "# One way of doing it!!\n",
    "for value in (arr[d:] + arr[0:d]): print(value)"
   ]
  },
  {
   "cell_type": "code",
   "execution_count": 20,
   "metadata": {},
   "outputs": [
    {
     "data": {
      "text/plain": [
       "[3, 4, 5, 1, 2]"
      ]
     },
     "execution_count": 20,
     "metadata": {},
     "output_type": "execute_result"
    }
   ],
   "source": [
    "d = 2\n",
    "arr = [1,2,3,4,5]\n",
    "def rotation_vec(d,arr):\n",
    "    value = arr[2:] + arr[0:d]\n",
    "    return value\n",
    "rotation_vec(d,arr)"
   ]
  },
  {
   "cell_type": "code",
   "execution_count": null,
   "metadata": {},
   "outputs": [],
   "source": []
  }
 ],
 "metadata": {
  "kernelspec": {
   "display_name": "Python 3",
   "language": "python",
   "name": "python3"
  },
  "language_info": {
   "codemirror_mode": {
    "name": "ipython",
    "version": 3
   },
   "file_extension": ".py",
   "mimetype": "text/x-python",
   "name": "python",
   "nbconvert_exporter": "python",
   "pygments_lexer": "ipython3",
   "version": "3.8.5"
  }
 },
 "nbformat": 4,
 "nbformat_minor": 4
}
