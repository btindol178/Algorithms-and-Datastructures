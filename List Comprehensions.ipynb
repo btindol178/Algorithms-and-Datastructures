{
 "cells": [
  {
   "cell_type": "markdown",
   "metadata": {},
   "source": [
    "# List Comprehensions"
   ]
  },
  {
   "cell_type": "code",
   "execution_count": 1,
   "metadata": {},
   "outputs": [],
   "source": [
    "import pandas as pd \n",
    "import numpy as np"
   ]
  },
  {
   "cell_type": "code",
   "execution_count": 6,
   "metadata": {},
   "outputs": [],
   "source": [
    "temps = [10, 40, 30, 50, 20]  \n"
   ]
  },
  {
   "cell_type": "code",
   "execution_count": 7,
   "metadata": {},
   "outputs": [
    {
     "name": "stdout",
     "output_type": "stream",
     "text": [
      "[1.0, 4.0, 3.0, 5.0, 2.0]\n"
     ]
    }
   ],
   "source": [
    "# normal loop interaction\n",
    "new_temps = []\n",
    "for temp in temps:\n",
    "    new_temps.append(temp/10)\n",
    "print(new_temps)"
   ]
  },
  {
   "cell_type": "code",
   "execution_count": 8,
   "metadata": {},
   "outputs": [
    {
     "name": "stdout",
     "output_type": "stream",
     "text": [
      "[1.0, 4.0, 3.0, 5.0, 2.0]\n"
     ]
    }
   ],
   "source": [
    "# List comprehension\n",
    "new_temps = [temp / 10 for temp in temps]\n",
    "\n",
    "print(new_temps)"
   ]
  },
  {
   "cell_type": "code",
   "execution_count": 12,
   "metadata": {},
   "outputs": [
    {
     "name": "stdout",
     "output_type": "stream",
     "text": [
      "[1.0, 4.0, 3.0, 5.0, 2.0]\n"
     ]
    }
   ],
   "source": [
    "# comprehension with conditional.\n",
    "tempslist = [10, 40, 30, 50, 20,-30]  \n",
    "\n",
    "new_temps = [temp / 10 for temp in tempslist if temp != -30]\n",
    "print(new_temps)"
   ]
  },
  {
   "cell_type": "code",
   "execution_count": 15,
   "metadata": {},
   "outputs": [
    {
     "name": "stdout",
     "output_type": "stream",
     "text": [
      "[1.0, 4.0, 3.0, 5.0, 2.0]\n"
     ]
    }
   ],
   "source": [
    "# conditional\n",
    "tempslist = [10, 40, 30, 50, 20,-30]  \n",
    "new_temps = [temp / 10 if temp != -30 else 0 for temp in temps]\n",
    "print(new_temps)"
   ]
  },
  {
   "cell_type": "markdown",
   "metadata": {},
   "source": [
    "# Zipping"
   ]
  },
  {
   "cell_type": "code",
   "execution_count": 18,
   "metadata": {},
   "outputs": [
    {
     "data": {
      "text/plain": [
       "[(1, 'a'), (2, 'b'), (3, 'c')]"
      ]
     },
     "execution_count": 18,
     "metadata": {},
     "output_type": "execute_result"
    }
   ],
   "source": [
    "# With 2 lists\n",
    "numbers = [1, 2, 3]\n",
    "letters = ['a', 'b', 'c']\n",
    "zipped = zip(numbers, letters)\n",
    "list(zipped) # how you call the zipped elements"
   ]
  },
  {
   "cell_type": "code",
   "execution_count": 19,
   "metadata": {},
   "outputs": [
    {
     "data": {
      "text/plain": [
       "[(1, 'c'), (2, 'b'), (3, 'a')]"
      ]
     },
     "execution_count": 19,
     "metadata": {},
     "output_type": "execute_result"
    }
   ],
   "source": [
    "# With 2 dictionaries\n",
    "s1 = {2, 3, 1}\n",
    "s2 = {'b', 'a', 'c'}\n",
    "list(zip(s1, s2))"
   ]
  },
  {
   "cell_type": "code",
   "execution_count": 20,
   "metadata": {},
   "outputs": [
    {
     "data": {
      "text/plain": [
       "[(1, 'c'), (2, 'b'), (3, 'a')]"
      ]
     },
     "execution_count": 20,
     "metadata": {},
     "output_type": "execute_result"
    }
   ],
   "source": [
    "zipped2 = zip(s1,s2)\n",
    "list(zipped2)"
   ]
  },
  {
   "cell_type": "code",
   "execution_count": 22,
   "metadata": {},
   "outputs": [
    {
     "name": "stdout",
     "output_type": "stream",
     "text": [
      "Letter: a\n",
      "Number: 0\n",
      "Letter: b\n",
      "Number: 1\n",
      "Letter: c\n",
      "Number: 2\n"
     ]
    }
   ],
   "source": [
    "# Operations in loop format..\n",
    "letters = ['a', 'b', 'c']\n",
    "numbers = [0, 1, 2]\n",
    "for l, n in zip(letters, numbers):\n",
    "    print(f'Letter: {l}')\n",
    "    print(f'Number: {n}')"
   ]
  },
  {
   "cell_type": "code",
   "execution_count": 23,
   "metadata": {},
   "outputs": [
    {
     "name": "stdout",
     "output_type": "stream",
     "text": [
      "name -> John\n",
      "name -> Jane\n",
      "last_name -> Doe\n",
      "last_name -> Doe\n",
      "job -> Python Consultant\n",
      "job -> Community Manager\n"
     ]
    }
   ],
   "source": [
    "# Traversing dictionaries parralell\n",
    "dict_one = {'name': 'John', 'last_name': 'Doe', 'job': 'Python Consultant'}\n",
    "dict_two = {'name': 'Jane', 'last_name': 'Doe', 'job': 'Community Manager'}\n",
    "for (k1, v1), (k2, v2) in zip(dict_one.items(), dict_two.items()):\n",
    "    print(k1, '->', v1)\n",
    "    print(k2, '->', v2)"
   ]
  },
  {
   "cell_type": "code",
   "execution_count": 24,
   "metadata": {},
   "outputs": [
    {
     "name": "stdout",
     "output_type": "stream",
     "text": [
      "Total profit: 5200.0\n",
      "Total profit: 5100.0\n",
      "Total profit: 4800.0\n"
     ]
    }
   ],
   "source": [
    "# uSING THIS for a calculation\n",
    "total_sales = [52000.00, 51000.00, 48000.00]\n",
    "prod_cost = [46800.00, 45900.00, 43200.00]\n",
    "for sales, costs in zip(total_sales, prod_cost):\n",
    "    profit = sales - costs\n",
    "    print(f'Total profit: {profit}')"
   ]
  },
  {
   "cell_type": "code",
   "execution_count": 26,
   "metadata": {},
   "outputs": [
    {
     "name": "stdout",
     "output_type": "stream",
     "text": [
      "32.0\n"
     ]
    }
   ],
   "source": [
    "# Working on weighted mean again...\n",
    "\n",
    "numberz = [10, 40, 30, 50, 20]  \n",
    "weightz = [1, 2, 3, 4, 5]\n",
    "\n",
    "numerator = 0\n",
    "denominator = 0\n",
    "for xi,wi, in zip(numberz,weightz):\n",
    "    numerator += xi * wi\n",
    "    denominator += wi\n",
    "print(round(numerator/denominator,1))"
   ]
  },
  {
   "cell_type": "code",
   "execution_count": null,
   "metadata": {},
   "outputs": [],
   "source": []
  }
 ],
 "metadata": {
  "kernelspec": {
   "display_name": "Python 3",
   "language": "python",
   "name": "python3"
  },
  "language_info": {
   "codemirror_mode": {
    "name": "ipython",
    "version": 3
   },
   "file_extension": ".py",
   "mimetype": "text/x-python",
   "name": "python",
   "nbconvert_exporter": "python",
   "pygments_lexer": "ipython3",
   "version": "3.8.5"
  }
 },
 "nbformat": 4,
 "nbformat_minor": 4
}
