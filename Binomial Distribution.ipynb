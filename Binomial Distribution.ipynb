{
 "cells": [
  {
   "cell_type": "markdown",
   "metadata": {},
   "source": [
    "# BINOMIAL DISTRIBUTION"
   ]
  },
  {
   "cell_type": "markdown",
   "metadata": {},
   "source": [
    "The ratio of boys to girls is 1.09:1 for babies born in Russia is .\n",
    "    If there is 1 child born per birth, what proportion of Russian families with exactly 3 children will have at least  boys?\n",
    "\n"
   ]
  },
  {
   "cell_type": "markdown",
   "metadata": {},
   "source": [
    "# Solution 1"
   ]
  },
  {
   "cell_type": "code",
   "execution_count": null,
   "metadata": {},
   "outputs": [],
   "source": [
    "import math\n",
    "\n",
    "def bi_dist(x, n, p):\n",
    "    b = (math.factorial(n)/(math.factorial(x)*math.factorial(n-x)))*(p**x)*((1-p)**(n-x))\n",
    "    return(b)\n",
    "\n",
    "b, p, n = 0, 1.09/2.09, 6\n",
    "for i in range(3,7):\n",
    "    b += bi_dist(i, n, p)   \n",
    "print(\"%.3f\" %b)"
   ]
  },
  {
   "cell_type": "markdown",
   "metadata": {},
   "source": [
    "# Solution 2"
   ]
  },
  {
   "cell_type": "code",
   "execution_count": null,
   "metadata": {},
   "outputs": [],
   "source": [
    "import sys \n",
    "import math\n",
    "\n",
    "b = [float(i) for i in sys.stdin.readline().split()]\n",
    "\n",
    "def nCr(n,r):\n",
    "    f = math.factorial\n",
    "    return f(n)/( f(r) * f(n-r))\n",
    "\n",
    "pb = b[0]/(b[0]+b[1])\n",
    "pg = 1-pb\n",
    "\n",
    "n = 6\n",
    "p3b = 0 \n",
    "\n",
    "for i in range(3,n+1):\n",
    "    p3b += nCr(n,i) * (pb**i) * (pg**(n-i))\n",
    "\n",
    "print(round(p3b,3))"
   ]
  },
  {
   "cell_type": "markdown",
   "metadata": {},
   "source": [
    "# Solution 3"
   ]
  },
  {
   "cell_type": "code",
   "execution_count": 1,
   "metadata": {},
   "outputs": [
    {
     "name": "stdout",
     "output_type": "stream",
     "text": [
      "0.696\n"
     ]
    }
   ],
   "source": [
    "import math\n",
    "\n",
    "\n",
    "def binomial_dist(n,p,x):\n",
    "    return (math.factorial(n) / (math.factorial(x)*math.factorial(n-x))) * math.pow(p,x) * math.pow(1-p,n-x)\n",
    "\n",
    "# p_input, q_input = list(map(int, input().split()))\n",
    "# p = p_input/(p_input+q_input)\n",
    "p = 1.09/2.09\n",
    "n = 6\n",
    "\n",
    "probability_sum = 0\n",
    "for x in range(3,7):\n",
    "    probability_sum = probability_sum + binomial_dist(n=n, p=p, x=x)\n",
    "\n",
    "print(round(probability_sum, 3))"
   ]
  },
  {
   "cell_type": "code",
   "execution_count": null,
   "metadata": {},
   "outputs": [],
   "source": [
    "# # in r\n",
    "#prob_boy <- 1.09/2.09\n",
    "# prob <- dbinom(3,size = 6,prob = prob_boy) +\n",
    "#   dbinom(4,size = 6,prob = prob_boy) +\n",
    "#   dbinom(5,size = 6,prob = prob_boy) +\n",
    "#   dbinom(6,size = 6,prob = prob_boy)\n",
    "\n",
    "cat(format(round(prob,3),nsmall = 3))"
   ]
  }
 ],
 "metadata": {
  "kernelspec": {
   "display_name": "Python 3",
   "language": "python",
   "name": "python3"
  },
  "language_info": {
   "codemirror_mode": {
    "name": "ipython",
    "version": 3
   },
   "file_extension": ".py",
   "mimetype": "text/x-python",
   "name": "python",
   "nbconvert_exporter": "python",
   "pygments_lexer": "ipython3",
   "version": "3.8.5"
  }
 },
 "nbformat": 4,
 "nbformat_minor": 4
}
