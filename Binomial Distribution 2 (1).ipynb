{
 "cells": [
  {
   "cell_type": "markdown",
   "metadata": {},
   "source": [
    "# Binomial Distribution 2"
   ]
  },
  {
   "cell_type": "markdown",
   "metadata": {},
   "source": [
    "A manufacturer of metal pistons finds that, on average,12%  of the pistons they manufacture are rejected because \n",
    "they are incorrectly sized. What is the probability that a batch of 10 pistons will contain:\n",
    "\n",
    "No more than 2 rejects?<br>\n",
    "At least 2 rejects?"
   ]
  },
  {
   "cell_type": "code",
   "execution_count": 11,
   "metadata": {},
   "outputs": [
    {
     "name": "stdout",
     "output_type": "stream",
     "text": [
      "0.891\n",
      "0.342\n"
     ]
    }
   ],
   "source": [
    "import math\n",
    "\n",
    "def b_dist(n,p,x):\n",
    "    return (math.factorial(n)/(math.factorial(x)*math.factorial(n-x)))*(p**x)*((1-p)**(n-x))\n",
    "    \n",
    "b1 = b_dist(10,0.12,0) + b_dist(10,0.12,1) + b_dist(10,0.12,2)\n",
    "b2 = 1 - (b_dist(10,0.12,0) + b_dist(10,0.12,1))\n",
    "\n",
    "print(\"%.3f\" %b1)\n",
    "print(\"%.3f\" %b2)"
   ]
  },
  {
   "cell_type": "code",
   "execution_count": 15,
   "metadata": {},
   "outputs": [
    {
     "name": "stdout",
     "output_type": "stream",
     "text": [
      "0.891\n",
      "0.342\n"
     ]
    }
   ],
   "source": [
    "from math import factorial\n",
    "\n",
    "def nck(n, k):\n",
    "    return (factorial(n) / (factorial(k)*factorial(n-k)))\n",
    "\n",
    "def binom(n,r,p):\n",
    "    return nck(n,r) * p**r * (1-p)** (n-r)\n",
    "\n",
    "print (round (sum( [binom(10, i, .88) for i in range (8, 11)]), 3))\n",
    "print (round (sum( [binom(10, i, .12) for i in range (2, 11)]), 3))"
   ]
  },
  {
   "cell_type": "code",
   "execution_count": 18,
   "metadata": {},
   "outputs": [
    {
     "name": "stdout",
     "output_type": "stream",
     "text": [
      "0.891\n",
      "0.342\n"
     ]
    }
   ],
   "source": [
    "from functools import reduce\n",
    "def C(n, k):\n",
    "    if n == k:\n",
    "        return 1\n",
    "    numerator__ = reduce(lambda x, y: x * y, range(k + 1, n + 1))\n",
    "    denominator = reduce(lambda x, y: x * y, range(1, n - k + 1)) \n",
    "    return numerator__ / denominator\n",
    "\n",
    "def binomial_pmf(n, k, p):\n",
    "    return [C(n, i) * (p**i) * ((1 - p)**(n - i)) for i in range(k, n + 1)]\n",
    "\n",
    "n, p = 10, .12\n",
    "pmf_2 = binomial_pmf(n, 2, p)\n",
    "pmf_1 = pmf_2[1:]\n",
    "print(round(1 - sum(pmf_1), 3))\n",
    "print(round(sum(pmf_2), 3))"
   ]
  },
  {
   "cell_type": "code",
   "execution_count": null,
   "metadata": {},
   "outputs": [],
   "source": []
  }
 ],
 "metadata": {
  "kernelspec": {
   "display_name": "Python 3",
   "language": "python",
   "name": "python3"
  },
  "language_info": {
   "codemirror_mode": {
    "name": "ipython",
    "version": 3
   },
   "file_extension": ".py",
   "mimetype": "text/x-python",
   "name": "python",
   "nbconvert_exporter": "python",
   "pygments_lexer": "ipython3",
   "version": "3.8.5"
  }
 },
 "nbformat": 4,
 "nbformat_minor": 4
}
