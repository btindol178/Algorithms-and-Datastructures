{
 "cells": [
  {
   "cell_type": "markdown",
   "metadata": {},
   "source": [
    "# Weighted mean"
   ]
  },
  {
   "cell_type": "code",
   "execution_count": 5,
   "metadata": {},
   "outputs": [],
   "source": [
    "import numpy as np \n",
    "import pandas as pd\n",
    "import math\n",
    "import os\n",
    "import random\n",
    "import re\n",
    "import sys\n"
   ]
  },
  {
   "cell_type": "code",
   "execution_count": 23,
   "metadata": {},
   "outputs": [],
   "source": [
    "X = [10, 40, 30, 50, 20]  \n",
    "W = [1, 2, 3, 4, 5]"
   ]
  },
  {
   "cell_type": "code",
   "execution_count": 27,
   "metadata": {},
   "outputs": [
    {
     "name": "stdout",
     "output_type": "stream",
     "text": [
      "1\n",
      "3\n",
      "6\n",
      "10\n",
      "15\n"
     ]
    }
   ],
   "source": [
    "W = [1, 2, 3, 4, 5]\n",
    "# denomsum = 0\n",
    "# for i in range(0,len(X)):\n",
    "#     denomsum += i\n",
    "#     print(denomsum)\n",
    "total = 0\n",
    "for val in W:\n",
    "    total = total + val\n",
    "    print(total)"
   ]
  },
  {
   "cell_type": "code",
   "execution_count": 28,
   "metadata": {},
   "outputs": [
    {
     "name": "stdout",
     "output_type": "stream",
     "text": [
      "1\n",
      "3\n",
      "6\n",
      "10\n",
      "15\n"
     ]
    }
   ],
   "source": [
    "\n",
    "numeratorlist = []\n",
    "denominatorlist = []\n",
    "for i in range(len(X)):\n",
    "    #print(X[i])\n",
    "    #print(W[i])\n",
    "    numerator = X[i] * W[i]\n",
    "    denominator =W[i]\n",
    "    numeratorlist.append(numerator)\n",
    "    denominatorlist.append(denominator)\n",
    "\n",
    "numeratorsum = []\n",
    "denominatorsum =[]\n",
    "denomtotal = 0\n",
    "for val in denominatorlist:\n",
    "    denomtotal =denomtotal + val\n",
    "    #print(denomtotal)\n",
    "denominatorsum.append(denomtotal)\n",
    "\n",
    "numeratortotal = 0\n",
    "for val in numeratorlist:\n",
    "    numeratortotal =numeratortotal + val\n",
    "numeratorsum.append(numeratortotal)\n",
    "    #print(numeratortotal)\n",
    "    \n",
    "return numeratorsum/denominatorsum"
   ]
  },
  {
   "cell_type": "markdown",
   "metadata": {},
   "source": [
    "denominatorsum"
   ]
  },
  {
   "cell_type": "code",
   "execution_count": 33,
   "metadata": {},
   "outputs": [],
   "source": [
    "numeratortotal = 0\n",
    "for val in numeratorlist:\n",
    "    numeratortotal =numeratortotal + val\n",
    "    #print(denomtotal)"
   ]
  },
  {
   "cell_type": "code",
   "execution_count": 34,
   "metadata": {},
   "outputs": [
    {
     "data": {
      "text/plain": [
       "480"
      ]
     },
     "execution_count": 34,
     "metadata": {},
     "output_type": "execute_result"
    }
   ],
   "source": [
    "numeratortotal"
   ]
  },
  {
   "cell_type": "code",
   "execution_count": 41,
   "metadata": {},
   "outputs": [],
   "source": [
    "denominatorsum =[]\n",
    "denomtotal = 0\n",
    "for val in denominatorlist:\n",
    "    denomtotal =denomtotal + val\n",
    "    #print(denomtotal)\n",
    "denominatorsum.append(denomtotal)"
   ]
  },
  {
   "cell_type": "code",
   "execution_count": 43,
   "metadata": {},
   "outputs": [
    {
     "data": {
      "text/plain": [
       "[15]"
      ]
     },
     "execution_count": 43,
     "metadata": {},
     "output_type": "execute_result"
    }
   ],
   "source": [
    "denominatorsum"
   ]
  },
  {
   "cell_type": "code",
   "execution_count": 49,
   "metadata": {},
   "outputs": [],
   "source": [
    "X = [10, 40, 30, 50, 20]  \n",
    "W = [1, 2, 3, 4, 5]\n",
    "\n",
    "def weightedmean(X,W):\n",
    "    numeratorlist = []\n",
    "    denominatorlist = []\n",
    "    for i in range(len(X)):\n",
    "        #print(X[i])\n",
    "        #print(W[i])\n",
    "        numerator = X[i] * W[i]\n",
    "        denominator =W[i]\n",
    "        numeratorlist.append(numerator)\n",
    "        denominatorlist.append(denominator)\n",
    "\n",
    "    numeratorsum = []\n",
    "    denominatorsum =[]\n",
    "    denomtotal = 0\n",
    "    for val in denominatorlist:\n",
    "        denomtotal =denomtotal + val\n",
    "        #print(denomtotal)\n",
    "    denominatorsum.append(denomtotal)\n",
    "\n",
    "    numeratortotal = 0\n",
    "    for val in numeratorlist:\n",
    "        numeratortotal =numeratortotal + val\n",
    "    numeratorsum.append(numeratortotal)\n",
    "        #print(numeratortotal)\n",
    "\n",
    "    return numeratorsum[0]/denominatorsum[0]"
   ]
  },
  {
   "cell_type": "code",
   "execution_count": 50,
   "metadata": {},
   "outputs": [
    {
     "data": {
      "text/plain": [
       "32.0"
      ]
     },
     "execution_count": 50,
     "metadata": {},
     "output_type": "execute_result"
    }
   ],
   "source": [
    "weightedmean(X,W)"
   ]
  },
  {
   "cell_type": "code",
   "execution_count": null,
   "metadata": {},
   "outputs": [],
   "source": [
    "# Zipped method...\n",
    "numberz = [10, 40, 30, 50, 20]  \n",
    "weightz = [1, 2, 3, 4, 5]\n",
    "\n",
    "numerator = 0\n",
    "denominator = 0\n",
    "for xi,wi, in zip(numberz,weightz):\n",
    "    numerator += xi * wi\n",
    "    denominator += wi\n",
    "print(round(numerator/denominator,1))"
   ]
  }
 ],
 "metadata": {
  "kernelspec": {
   "display_name": "Python 3",
   "language": "python",
   "name": "python3"
  },
  "language_info": {
   "codemirror_mode": {
    "name": "ipython",
    "version": 3
   },
   "file_extension": ".py",
   "mimetype": "text/x-python",
   "name": "python",
   "nbconvert_exporter": "python",
   "pygments_lexer": "ipython3",
   "version": "3.8.5"
  }
 },
 "nbformat": 4,
 "nbformat_minor": 4
}
