{
 "cells": [
  {
   "cell_type": "markdown",
   "metadata": {},
   "source": [
    "# Standard Deviation"
   ]
  },
  {
   "cell_type": "code",
   "execution_count": 1,
   "metadata": {},
   "outputs": [],
   "source": [
    "import math\n",
    "import os\n",
    "import random\n",
    "import re\n",
    "import sys"
   ]
  },
  {
   "cell_type": "code",
   "execution_count": 45,
   "metadata": {},
   "outputs": [],
   "source": [
    "arr = [2,5,2,7,4]"
   ]
  },
  {
   "cell_type": "code",
   "execution_count": 35,
   "metadata": {},
   "outputs": [],
   "source": [
    "# Get the simple mean of the array\n",
    "def meanz(x):\n",
    "    counter = 0\n",
    "    for i in range(0,len(x)):\n",
    "          counter += x[i] \n",
    "    final = round(int(counter)/len(x),2)\n",
    "    return final"
   ]
  },
  {
   "cell_type": "code",
   "execution_count": 46,
   "metadata": {},
   "outputs": [
    {
     "data": {
      "text/plain": [
       "4.0"
      ]
     },
     "execution_count": 46,
     "metadata": {},
     "output_type": "execute_result"
    }
   ],
   "source": [
    "var = meanz(arr)\n",
    "var"
   ]
  },
  {
   "cell_type": "code",
   "execution_count": 93,
   "metadata": {},
   "outputs": [
    {
     "name": "stdout",
     "output_type": "stream",
     "text": [
      "4\n",
      "1\n",
      "4\n",
      "9\n",
      "0\n",
      "[4, 1, 4, 9, 0]\n",
      "The variance is 3.6\n",
      "The stadard deviation is 1.8973665961010275\n"
     ]
    }
   ],
   "source": [
    "\n",
    "numberz = [2,5,2,7,4]\n",
    "mean_denom = meanz(numberz)\n",
    "\n",
    "holder = []\n",
    "for i in range(len(numberz)):\n",
    "    numbers2 = ((int(numberz[i]) - int(mean_denom)) ** 2)\n",
    "    print(numbers2)\n",
    "    holder.append(numbers2)\n",
    "print(holder)\n",
    "varinance = sum(holder)\n",
    "varinance = varinance/len(numberz)\n",
    "print( \"The variance is \" +str(varinance))\n",
    "print(\"The stadard deviation is \" + str(sqrt(varinance)))    \n",
    "    "
   ]
  },
  {
   "cell_type": "code",
   "execution_count": 58,
   "metadata": {},
   "outputs": [
    {
     "data": {
      "text/plain": [
       "4.0"
      ]
     },
     "execution_count": 58,
     "metadata": {},
     "output_type": "execute_result"
    }
   ],
   "source": [
    "arr = [2,5,2,7,4]\n",
    "mean = sum(arr) / len(arr)\n",
    "mean"
   ]
  },
  {
   "cell_type": "code",
   "execution_count": 60,
   "metadata": {},
   "outputs": [
    {
     "data": {
      "text/plain": [
       "3.6"
      ]
     },
     "execution_count": 60,
     "metadata": {},
     "output_type": "execute_result"
    }
   ],
   "source": [
    "variance = sum([((x - mean) ** 2) for x in arr]) / len(arr)\n",
    "variance"
   ]
  },
  {
   "cell_type": "code",
   "execution_count": 61,
   "metadata": {},
   "outputs": [],
   "source": [
    "stddev = variance ** 0.5"
   ]
  },
  {
   "cell_type": "code",
   "execution_count": 62,
   "metadata": {},
   "outputs": [
    {
     "data": {
      "text/plain": [
       "1.8973665961010275"
      ]
     },
     "execution_count": 62,
     "metadata": {},
     "output_type": "execute_result"
    }
   ],
   "source": [
    "stddev"
   ]
  },
  {
   "cell_type": "code",
   "execution_count": 65,
   "metadata": {},
   "outputs": [
    {
     "name": "stdout",
     "output_type": "stream",
     "text": [
      "1.8973665961010275\n"
     ]
    }
   ],
   "source": [
    "x = [2,5,2,7,4]\n",
    "u = sum(x)/len(arr)\n",
    "from math import sqrt\n",
    "print( sqrt(sum([(x[i]-u)**2 for i in range(len(arr))])/len(arr)) )"
   ]
  },
  {
   "cell_type": "code",
   "execution_count": null,
   "metadata": {},
   "outputs": [],
   "source": []
  }
 ],
 "metadata": {
  "kernelspec": {
   "display_name": "Python 3",
   "language": "python",
   "name": "python3"
  },
  "language_info": {
   "codemirror_mode": {
    "name": "ipython",
    "version": 3
   },
   "file_extension": ".py",
   "mimetype": "text/x-python",
   "name": "python",
   "nbconvert_exporter": "python",
   "pygments_lexer": "ipython3",
   "version": "3.8.5"
  }
 },
 "nbformat": 4,
 "nbformat_minor": 4
}
