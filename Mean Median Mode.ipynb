{
 "cells": [
  {
   "cell_type": "markdown",
   "metadata": {},
   "source": [
    "# Mean function"
   ]
  },
  {
   "cell_type": "code",
   "execution_count": 31,
   "metadata": {},
   "outputs": [],
   "source": [
    "import python as pd\n",
    "import numpy as np\n",
    "\n",
    "# Make a mean function \n",
    "x = [1,2,3,4,5,5]\n",
    "\n",
    "# put an array or list in this function\n",
    "def meanz(x):\n",
    "    x = [1,2,3,4,5,5]\n",
    "    counter = 0\n",
    "    for i in range(0,len(x)):\n",
    "          counter += x[i] \n",
    "    return print(round(counter/len(x),2))"
   ]
  },
  {
   "cell_type": "code",
   "execution_count": 32,
   "metadata": {},
   "outputs": [
    {
     "name": "stdout",
     "output_type": "stream",
     "text": [
      "3.33\n"
     ]
    }
   ],
   "source": [
    "meanz(x)"
   ]
  },
  {
   "cell_type": "code",
   "execution_count": 35,
   "metadata": {},
   "outputs": [
    {
     "data": {
      "text/plain": [
       "35.75"
      ]
     },
     "execution_count": 35,
     "metadata": {},
     "output_type": "execute_result"
    }
   ],
   "source": [
    "# Another way...\n",
    "def Average(lst):\n",
    "    return sum(lst) / len(lst)\n",
    "  \n",
    "# Driver Code\n",
    "lst = [15, 9, 55, 41, 35, 20, 62, 49]\n",
    "average = Average(lst)\n",
    "average"
   ]
  },
  {
   "cell_type": "markdown",
   "metadata": {},
   "source": [
    "# Median"
   ]
  },
  {
   "cell_type": "code",
   "execution_count": 62,
   "metadata": {},
   "outputs": [],
   "source": [
    "z = [4978,11735,14216,14470,38120,51135,64630,67060,73429,99233]\n"
   ]
  },
  {
   "cell_type": "code",
   "execution_count": 45,
   "metadata": {},
   "outputs": [
    {
     "data": {
      "text/plain": [
       "[99233, 73429, 67060, 64630, 51135, 38120, 14470, 14216, 11735, 4978]"
      ]
     },
     "execution_count": 45,
     "metadata": {},
     "output_type": "execute_result"
    }
   ],
   "source": [
    "z.sort(reverse=True)\n",
    "z"
   ]
  },
  {
   "cell_type": "code",
   "execution_count": 47,
   "metadata": {},
   "outputs": [
    {
     "data": {
      "text/plain": [
       "5.0"
      ]
     },
     "execution_count": 47,
     "metadata": {},
     "output_type": "execute_result"
    }
   ],
   "source": [
    "len(z)/2 # get middle position "
   ]
  },
  {
   "cell_type": "code",
   "execution_count": 73,
   "metadata": {},
   "outputs": [],
   "source": [
    "z = [4978,11735,14216,14470,38120,51135,64630,67060,73429,99233] # even \n",
    "t = [4978,11735,14216,14470,38120,51135,64630,67060,73429] # odd\n",
    "\n",
    "def median(z):\n",
    "    z.sort(reverse=True)\n",
    "    lenz= len(z)\n",
    "\n",
    "    if (lenz % 2) == 0:\n",
    "        position = int(round(lenz/2,0))\n",
    "        position2 = position -1\n",
    "        number = z[position]\n",
    "        number2 = z[position2]\n",
    "        final = (number + number2)/2\n",
    "        print(final)\n",
    "    else:\n",
    "        position = int(round(lenz/2,0))\n",
    "        print(z[position])\n",
    "    \n",
    "    "
   ]
  },
  {
   "cell_type": "code",
   "execution_count": 74,
   "metadata": {},
   "outputs": [
    {
     "name": "stdout",
     "output_type": "stream",
     "text": [
      "44627.5\n"
     ]
    }
   ],
   "source": [
    "median(z) # averages the middle two numbers"
   ]
  },
  {
   "cell_type": "code",
   "execution_count": 75,
   "metadata": {},
   "outputs": [
    {
     "name": "stdout",
     "output_type": "stream",
     "text": [
      "38120\n"
     ]
    }
   ],
   "source": [
    "median(t)"
   ]
  },
  {
   "cell_type": "markdown",
   "metadata": {},
   "source": [
    "# Mode"
   ]
  },
  {
   "cell_type": "code",
   "execution_count": 101,
   "metadata": {},
   "outputs": [],
   "source": [
    "def counter(it):\n",
    "    counts = {}\n",
    "    for item in it:\n",
    "        try:\n",
    "            counts[item] += 1\n",
    "        except KeyError:\n",
    "            counts[item] = 1\n",
    "    return counts\n",
    "\n",
    "def modez(m):\n",
    "    m.sort(reverse=True) # sort in decending \n",
    "    data = counter(m)    # count values and put them into dict with their count\n",
    "    get_mode = dict(data) # put that into dict..\n",
    "    mode = [k for k, v in get_mode.items() if v == max(list(data.values()))] # list comprehension to get max value in dictionary \n",
    "    if len(mode) == n:\n",
    "        get_mode = \"No mode found\"\n",
    "    else:\n",
    "        get_mode = \"Mode is / are: \" + ', '.join(map(str, mode))\n",
    "      \n",
    "    print(get_mode)"
   ]
  },
  {
   "cell_type": "code",
   "execution_count": 104,
   "metadata": {},
   "outputs": [
    {
     "name": "stdout",
     "output_type": "stream",
     "text": [
      "Mode is / are: 3\n"
     ]
    }
   ],
   "source": [
    "m =[2, 3, 6, 3, 7, 5, 1, 2, 3, 9]\n",
    "m2 =[2, 3, 6, 4, 7, 5, 1, 2, 3, 9]\n",
    "m3 = [1,2,3,4,5]\n",
    "\n",
    "modez(m) # there is only one mode here"
   ]
  },
  {
   "cell_type": "code",
   "execution_count": 103,
   "metadata": {},
   "outputs": [
    {
     "name": "stdout",
     "output_type": "stream",
     "text": [
      "Mode is / are: 3, 2\n"
     ]
    }
   ],
   "source": [
    "modez(m2) # there are two modes here"
   ]
  },
  {
   "cell_type": "code",
   "execution_count": 105,
   "metadata": {},
   "outputs": [
    {
     "name": "stdout",
     "output_type": "stream",
     "text": [
      "Mode is / are: 5, 4, 3, 2, 1\n"
     ]
    }
   ],
   "source": [
    "modez(m3)"
   ]
  }
 ],
 "metadata": {
  "kernelspec": {
   "display_name": "Python 3",
   "language": "python",
   "name": "python3"
  },
  "language_info": {
   "codemirror_mode": {
    "name": "ipython",
    "version": 3
   },
   "file_extension": ".py",
   "mimetype": "text/x-python",
   "name": "python",
   "nbconvert_exporter": "python",
   "pygments_lexer": "ipython3",
   "version": "3.8.5"
  }
 },
 "nbformat": 4,
 "nbformat_minor": 4
}
