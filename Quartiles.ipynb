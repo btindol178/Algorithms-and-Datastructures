{
 "cells": [
  {
   "cell_type": "markdown",
   "metadata": {},
   "source": [
    "# Interquartile Range"
   ]
  },
  {
   "cell_type": "code",
   "execution_count": 1,
   "metadata": {},
   "outputs": [],
   "source": [
    "import numpy as np \n",
    "import pandas as pd\n",
    "import math\n",
    "import os\n",
    "import random\n",
    "import re\n",
    "import sys\n",
    "#https://www.varsitytutors.com/algebra_1-help/how-to-find-interquartile-range"
   ]
  },
  {
   "cell_type": "code",
   "execution_count": 74,
   "metadata": {},
   "outputs": [],
   "source": [
    "arr = [9,5,7,1,3]\n",
    "oddarr = [9,5,7,1,3,6]"
   ]
  },
  {
   "cell_type": "markdown",
   "metadata": {},
   "source": [
    "# My solution"
   ]
  },
  {
   "cell_type": "code",
   "execution_count": 79,
   "metadata": {},
   "outputs": [
    {
     "name": "stdout",
     "output_type": "stream",
     "text": [
      "Array is Odd number\n",
      "2.0\n",
      "5\n",
      "8.0\n"
     ]
    }
   ],
   "source": [
    "arr.sort()\n",
    "indexz=int(len(arr)/2) # get index of array\n",
    "if (len(arr) % 2) == 0:  \n",
    "    print(\"Array is Even number\") \n",
    "    firsthalf = oddarr[:indexz] # first half of list for q1\n",
    "    secondhalf = oddarr[indexz:] # second half of list for q3\n",
    "else:  \n",
    "    print(\"Array is Odd number\")  \n",
    "    firsthalf = oddarr[:indexz] # first half of list for q1\n",
    "    secondhalf = oddarr[indexz +1:] # second half of list for q3\n",
    "print(round(median(L),2))\n",
    "print(round(median(arr),2))\n",
    "print(round(median(U),2))"
   ]
  },
  {
   "cell_type": "markdown",
   "metadata": {},
   "source": [
    "# Odd array"
   ]
  },
  {
   "cell_type": "code",
   "execution_count": 82,
   "metadata": {},
   "outputs": [
    {
     "name": "stdout",
     "output_type": "stream",
     "text": [
      "2.0\n",
      "5\n",
      "8.0\n"
     ]
    }
   ],
   "source": [
    "from statistics import median\n",
    "arr = [9,5,7,1,3]\n",
    "arr.sort()\n",
    "t=int(len(arr)/2)\n",
    "if len(arr)%2==0:\n",
    "    L=arr[:t]\n",
    "    U=arr[t:]\n",
    "else:\n",
    "    L=arr[:t]\n",
    "    U=arr[t+1:]\n",
    "    \n",
    "print(round(median(L),2))\n",
    "print(round(median(arr),2))\n",
    "print(round(median(U),2))"
   ]
  },
  {
   "cell_type": "code",
   "execution_count": 80,
   "metadata": {},
   "outputs": [
    {
     "name": "stdout",
     "output_type": "stream",
     "text": [
      "Q2 quantile of arr :  5.0\n",
      "Q1 quantile of arr :  3.0\n",
      "Q3 quantile of arr :  7.0\n",
      "100th quantile of arr :  1.8\n"
     ]
    }
   ],
   "source": [
    "arr = [9,5,7,1,3]\n",
    "print(\"Q2 quantile of arr : \", np.quantile(arr, .50))\n",
    "print(\"Q1 quantile of arr : \", np.quantile(arr, .25))\n",
    "print(\"Q3 quantile of arr : \", np.quantile(arr, .75))\n",
    "print(\"100th quantile of arr : \", np.quantile(arr, .1)) "
   ]
  },
  {
   "cell_type": "code",
   "execution_count": 67,
   "metadata": {},
   "outputs": [
    {
     "name": "stdout",
     "output_type": "stream",
     "text": [
      "7\n",
      "5\n",
      "3\n"
     ]
    }
   ],
   "source": [
    "arr = [9,5,7,1,3,6]\n",
    "t=int(len(arr)/2)\n",
    "if len(arr)%2==0: # if array is even\n",
    "    L=arr[:t] # use index to get first half of array\n",
    "    U=arr[t:] # use index to get second half of array\n",
    "else:   # the array is odd\n",
    "    L=arr[:t] # get index\n",
    "    U=arr[t+1:] # get index\n",
    "    \n",
    "print(int(median(L))) # Q3\n",
    "print(int(median(arr))) # median\n",
    "print(int(median(U))) # q1"
   ]
  },
  {
   "cell_type": "code",
   "execution_count": 68,
   "metadata": {},
   "outputs": [
    {
     "name": "stdout",
     "output_type": "stream",
     "text": [
      "Q2 quantile of arr :  5.5\n",
      "Q1 quantile of arr :  3.5\n",
      "Q3 quantile of arr :  6.75\n",
      "100th quantile of arr :  2.0\n"
     ]
    }
   ],
   "source": [
    "arr = [9,5,7,1,3,6]\n",
    "print(\"Q2 quantile of arr : \", np.quantile(arr, .50))\n",
    "print(\"Q1 quantile of arr : \", np.quantile(arr, .25))\n",
    "print(\"Q3 quantile of arr : \", np.quantile(arr, .75))\n",
    "print(\"100th quantile of arr : \", np.quantile(arr, .1)) "
   ]
  },
  {
   "cell_type": "code",
   "execution_count": null,
   "metadata": {},
   "outputs": [],
   "source": []
  }
 ],
 "metadata": {
  "kernelspec": {
   "display_name": "Python 3",
   "language": "python",
   "name": "python3"
  },
  "language_info": {
   "codemirror_mode": {
    "name": "ipython",
    "version": 3
   },
   "file_extension": ".py",
   "mimetype": "text/x-python",
   "name": "python",
   "nbconvert_exporter": "python",
   "pygments_lexer": "ipython3",
   "version": "3.8.5"
  }
 },
 "nbformat": 4,
 "nbformat_minor": 4
}
