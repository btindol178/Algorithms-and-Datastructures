{
 "cells": [
  {
   "cell_type": "markdown",
   "metadata": {},
   "source": [
    "# Conditional Probability\n",
    "\n",
    "Suppose a family has 2 children, one of which is a boy. What is the probability that both children are boys?"
   ]
  },
  {
   "cell_type": "code",
   "execution_count": 3,
   "metadata": {},
   "outputs": [
    {
     "data": {
      "text/plain": [
       "[('B', 'B'), ('B', 'G'), ('G', 'B'), ('G', 'G')]"
      ]
     },
     "execution_count": 3,
     "metadata": {},
     "output_type": "execute_result"
    }
   ],
   "source": [
    "import itertools\n",
    "\n",
    "option1 = ['B','G']\n",
    "option2 = ['B','G']\n",
    "\n",
    "\n",
    "possible_outcomes = [(i)for i in itertools.product(option1,option2)]\n",
    "possible_outcomes"
   ]
  },
  {
   "cell_type": "code",
   "execution_count": null,
   "metadata": {},
   "outputs": [],
   "source": [
    "options1 = [0,1] \n",
    "options2 = [0,1] \n",
    "\n",
    "possible_outcomes = [(i)for i in itertools.product(options1,options2)]\n",
    "\n",
    "for i in range(len(possible_outcomes)):\n",
    "   # print(possible_outcomes[i])\n",
    "    counter = 0\n",
    "    if possible_outcomes[i][0] == 1 and possible_outcomes[i][1] == 1:\n",
    "        counter += 1\n",
    "    else:\n",
    "        continue "
   ]
  },
  {
   "cell_type": "markdown",
   "metadata": {},
   "source": [
    "# Make into function"
   ]
  },
  {
   "cell_type": "code",
   "execution_count": 28,
   "metadata": {},
   "outputs": [],
   "source": [
    "# Boy = 1 Girl = 0\n",
    "\n",
    "def conditional_probability(number_of_babies,BOG):\n",
    "    options1 = [0,1] \n",
    "    options2 = [0,1] \n",
    "\n",
    "    possible_outcomes = [(i)for i in itertools.product(options1,options2)]\n",
    "\n",
    "    for i in range(len(possible_outcomes)):\n",
    "       # print(possible_outcomes[i])\n",
    "        counter = 0\n",
    "        if possible_outcomes[i][0] == BOG and possible_outcomes[i][1] == BOG:\n",
    "            counter += 1\n",
    "        else:\n",
    "            continue \n",
    "\n",
    "    return print(counter/len(possible_outcomes))"
   ]
  },
  {
   "cell_type": "code",
   "execution_count": 30,
   "metadata": {},
   "outputs": [
    {
     "name": "stdout",
     "output_type": "stream",
     "text": [
      "0.25\n"
     ]
    }
   ],
   "source": [
    "# For parrents that have 2 babies and want boys 1 # This is not dynamic\n",
    "conditional_probability(2,1)"
   ]
  },
  {
   "cell_type": "markdown",
   "metadata": {},
   "source": [
    "# Make conditional function not based on just this problem?"
   ]
  },
  {
   "cell_type": "code",
   "execution_count": null,
   "metadata": {},
   "outputs": [],
   "source": [
    "# If you want to expand on this you need to check if all elements in the list are equal after checking if the element of the list at \n",
    "#position 0 is equal to boy or girl \n",
    "# Then use a counter to count values where the events match requirement and divide by length of cartesian product"
   ]
  },
  {
   "cell_type": "code",
   "execution_count": 37,
   "metadata": {},
   "outputs": [],
   "source": [
    "lst = ['Geeks', 'Geeks', 'Geeks', 'Geeks', ]\n",
    "\n",
    "def ckeckList(lst):\n",
    "  \n",
    "    ele = lst[0]\n",
    "    chk = True\n",
    "      \n",
    "    # Comparing each element with first item \n",
    "    for item in lst:\n",
    "        if ele != item:\n",
    "            chk = False\n",
    "            break;\n",
    "              \n",
    "    if (chk == True): print(\"Equal\")\n",
    "    else: print(\"Not equal\")    "
   ]
  },
  {
   "cell_type": "code",
   "execution_count": 38,
   "metadata": {},
   "outputs": [
    {
     "name": "stdout",
     "output_type": "stream",
     "text": [
      "Equal\n"
     ]
    }
   ],
   "source": [
    "ckeckList(lst)"
   ]
  },
  {
   "cell_type": "markdown",
   "metadata": {},
   "source": [
    "# Another way"
   ]
  },
  {
   "cell_type": "code",
   "execution_count": 10,
   "metadata": {},
   "outputs": [
    {
     "name": "stdout",
     "output_type": "stream",
     "text": [
      "P(both | older): 0.5007089325501317\n",
      "P(both | either): 0.3311897106109325\n"
     ]
    }
   ],
   "source": [
    "import enum, random\n",
    "class Kid(enum.Enum):\n",
    "    BOY = 0\n",
    "    GIRL = 1\n",
    "    \n",
    "def random_kid() -> Kid:\n",
    "    return random.choice([Kid.BOY, Kid.GIRL])\n",
    "\n",
    "both_girls = 0\n",
    "older_girl = 0\n",
    "either_girl = 0\n",
    "random.seed(0)\n",
    "\n",
    "for _ in range(10000):\n",
    "    younger = random_kid()\n",
    "    older = random_kid()\n",
    "    if older == Kid.GIRL:\n",
    "        older_girl += 1\n",
    "    if older == Kid.GIRL and younger == Kid.GIRL:\n",
    "        both_girls += 1\n",
    "    if older == Kid.GIRL or younger == Kid.GIRL:\n",
    "        either_girl += 1\n",
    "        \n",
    "print(\"P(both | older):\", both_girls / older_girl)   # 0.5007089325501317\n",
    "print(\"P(both | either):\", both_girls / either_girl) # 0.3311897106109325"
   ]
  },
  {
   "cell_type": "code",
   "execution_count": null,
   "metadata": {},
   "outputs": [],
   "source": []
  }
 ],
 "metadata": {
  "kernelspec": {
   "display_name": "Python 3",
   "language": "python",
   "name": "python3"
  },
  "language_info": {
   "codemirror_mode": {
    "name": "ipython",
    "version": 3
   },
   "file_extension": ".py",
   "mimetype": "text/x-python",
   "name": "python",
   "nbconvert_exporter": "python",
   "pygments_lexer": "ipython3",
   "version": "3.8.5"
  }
 },
 "nbformat": 4,
 "nbformat_minor": 4
}
