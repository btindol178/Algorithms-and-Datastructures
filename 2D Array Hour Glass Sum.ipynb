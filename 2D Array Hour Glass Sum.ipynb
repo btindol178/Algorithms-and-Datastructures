{
 "cells": [
  {
   "cell_type": "markdown",
   "metadata": {},
   "source": [
    "# 2D Array"
   ]
  },
  {
   "cell_type": "code",
   "execution_count": 5,
   "metadata": {},
   "outputs": [],
   "source": [
    "w, h = 6, 6;\n",
    "Matrix = [[0 for x in range(w)] for y in range(h)] "
   ]
  },
  {
   "cell_type": "code",
   "execution_count": 6,
   "metadata": {},
   "outputs": [
    {
     "data": {
      "text/plain": [
       "[[0, 0, 0, 0, 0, 0],\n",
       " [0, 0, 0, 0, 0, 0],\n",
       " [0, 0, 0, 0, 0, 0],\n",
       " [0, 0, 0, 0, 0, 0],\n",
       " [0, 0, 0, 0, 0, 0],\n",
       " [0, 0, 0, 0, 0, 0]]"
      ]
     },
     "execution_count": 6,
     "metadata": {},
     "output_type": "execute_result"
    }
   ],
   "source": [
    "Matrix"
   ]
  },
  {
   "cell_type": "code",
   "execution_count": 7,
   "metadata": {},
   "outputs": [
    {
     "data": {
      "text/plain": [
       "array([[0., 0., 0., 0., 0.],\n",
       "       [0., 0., 0., 0., 0.],\n",
       "       [0., 0., 0., 0., 0.],\n",
       "       [0., 0., 0., 0., 0.],\n",
       "       [0., 0., 0., 0., 0.]])"
      ]
     },
     "execution_count": 7,
     "metadata": {},
     "output_type": "execute_result"
    }
   ],
   "source": [
    "import numpy\n",
    "numpy.zeros((5, 5))\n"
   ]
  },
  {
   "cell_type": "code",
   "execution_count": 8,
   "metadata": {},
   "outputs": [
    {
     "name": "stdout",
     "output_type": "stream",
     "text": [
      "[[1 3 8 5 7 3]\n",
      " [1 6 8 1 7 7]\n",
      " [4 0 5 5 8 2]\n",
      " [5 3 3 9 0 1]\n",
      " [6 4 1 1 2 0]\n",
      " [6 4 2 9 7 1]]\n"
     ]
    }
   ],
   "source": [
    "import numpy as np\n",
    "  \n",
    "# 1st argument --> numbers ranging from 0 to 9, \n",
    "# 2nd argument, row = 2, col = 3\n",
    "array = np.random.randint(10, size=(6, 6))\n",
    "print(array)"
   ]
  },
  {
   "cell_type": "code",
   "execution_count": 50,
   "metadata": {},
   "outputs": [
    {
     "data": {
      "text/plain": [
       "array([[4, 7, 0, 6, 0, 2],\n",
       "       [6, 2, 6, 5, 7, 2],\n",
       "       [2, 5, 0, 5, 5, 0],\n",
       "       [2, 1, 4, 4, 0, 5],\n",
       "       [5, 4, 9, 1, 8, 5],\n",
       "       [0, 0, 5, 4, 7, 0]])"
      ]
     },
     "execution_count": 50,
     "metadata": {},
     "output_type": "execute_result"
    }
   ],
   "source": [
    "arr = np.random.randint(10, size=(6, 6))\n",
    "arr"
   ]
  },
  {
   "cell_type": "code",
   "execution_count": 51,
   "metadata": {},
   "outputs": [
    {
     "name": "stdout",
     "output_type": "stream",
     "text": [
      "[4 7 0 6 0 2]\n",
      "break\n",
      "[6 2 6 5 7 2]\n",
      "break\n",
      "[2 5 0 5 5 0]\n",
      "break\n",
      "[2 1 4 4 0 5]\n",
      "break\n",
      "[5 4 9 1 8 5]\n",
      "break\n",
      "[0 0 5 4 7 0]\n",
      "break\n"
     ]
    }
   ],
   "source": [
    "for i in range(len(arr)):\n",
    "    print(arr[i]) # prints row by row \n",
    "    print(\"break\")\n",
    "  "
   ]
  },
  {
   "cell_type": "code",
   "execution_count": 52,
   "metadata": {},
   "outputs": [
    {
     "data": {
      "text/plain": [
       "array([[4, 7, 0, 6, 0, 2],\n",
       "       [6, 2, 6, 5, 7, 2],\n",
       "       [2, 5, 0, 5, 5, 0],\n",
       "       [2, 1, 4, 4, 0, 5],\n",
       "       [5, 4, 9, 1, 8, 5],\n",
       "       [0, 0, 5, 4, 7, 0]])"
      ]
     },
     "execution_count": 52,
     "metadata": {},
     "output_type": "execute_result"
    }
   ],
   "source": [
    "arr"
   ]
  },
  {
   "cell_type": "code",
   "execution_count": 53,
   "metadata": {},
   "outputs": [
    {
     "name": "stdout",
     "output_type": "stream",
     "text": [
      "4\n",
      "7\n",
      "0\n",
      "6\n",
      "0\n",
      "2\n",
      "6\n",
      "2\n",
      "6\n",
      "5\n",
      "7\n",
      "2\n",
      "2\n",
      "5\n",
      "0\n",
      "5\n",
      "5\n",
      "0\n",
      "2\n",
      "1\n",
      "4\n",
      "4\n",
      "0\n",
      "5\n",
      "5\n",
      "4\n",
      "9\n",
      "1\n",
      "8\n",
      "5\n",
      "0\n",
      "0\n",
      "5\n",
      "4\n",
      "7\n",
      "0\n"
     ]
    }
   ],
   "source": [
    "for i in range(len(arr)):\n",
    "    for j in range(len(arr)): # if you reverse \n",
    "        #print(arr[j][i])  \n",
    "        print(arr[i][j])# this gives yoou printing each column by each row \n"
   ]
  },
  {
   "cell_type": "code",
   "execution_count": 54,
   "metadata": {},
   "outputs": [
    {
     "data": {
      "text/plain": [
       "array([[4, 7, 0, 6, 0, 2],\n",
       "       [6, 2, 6, 5, 7, 2],\n",
       "       [2, 5, 0, 5, 5, 0],\n",
       "       [2, 1, 4, 4, 0, 5],\n",
       "       [5, 4, 9, 1, 8, 5],\n",
       "       [0, 0, 5, 4, 7, 0]])"
      ]
     },
     "execution_count": 54,
     "metadata": {},
     "output_type": "execute_result"
    }
   ],
   "source": [
    "arr"
   ]
  },
  {
   "cell_type": "code",
   "execution_count": 55,
   "metadata": {
    "scrolled": true
   },
   "outputs": [
    {
     "name": "stdout",
     "output_type": "stream",
     "text": [
      "4\n",
      "6\n",
      "2\n",
      "2\n",
      "5\n",
      "0\n",
      "7\n",
      "2\n",
      "5\n",
      "1\n",
      "4\n",
      "0\n",
      "0\n",
      "6\n",
      "0\n",
      "4\n",
      "9\n",
      "5\n",
      "6\n",
      "5\n",
      "5\n",
      "4\n",
      "1\n",
      "4\n",
      "0\n",
      "7\n",
      "5\n",
      "0\n",
      "8\n",
      "7\n",
      "2\n",
      "2\n",
      "0\n",
      "5\n",
      "5\n",
      "0\n"
     ]
    }
   ],
   "source": [
    "for i in range(len(arr)):\n",
    "    for j in range(len(arr)): # if you reverse \n",
    "        print(arr[j][i])  # this gives you printing each row by each column \n",
    "        #print(arr[i][j])# \n"
   ]
  },
  {
   "cell_type": "markdown",
   "metadata": {},
   "source": [
    "# Hour Glass Sum Problem"
   ]
  },
  {
   "cell_type": "code",
   "execution_count": 58,
   "metadata": {},
   "outputs": [
    {
     "data": {
      "text/plain": [
       "array([[4, 7, 0, 6, 0, 2],\n",
       "       [6, 2, 6, 5, 7, 2],\n",
       "       [2, 5, 0, 5, 5, 0],\n",
       "       [2, 1, 4, 4, 0, 5],\n",
       "       [5, 4, 9, 1, 8, 5],\n",
       "       [0, 0, 5, 4, 7, 0]])"
      ]
     },
     "execution_count": 58,
     "metadata": {},
     "output_type": "execute_result"
    }
   ],
   "source": [
    "arr"
   ]
  },
  {
   "cell_type": "code",
   "execution_count": 68,
   "metadata": {},
   "outputs": [
    {
     "name": "stdout",
     "output_type": "stream",
     "text": [
      "4\n",
      "7\n",
      "0\n",
      "2\n",
      "2\n",
      "5\n",
      "0\n",
      "break\n",
      "7\n",
      "0\n",
      "6\n",
      "6\n",
      "5\n",
      "0\n",
      "5\n",
      "break\n",
      "0\n",
      "6\n",
      "0\n",
      "5\n",
      "0\n",
      "5\n",
      "5\n",
      "break\n",
      "6\n",
      "0\n",
      "2\n",
      "7\n",
      "5\n",
      "5\n",
      "0\n",
      "break\n",
      "6\n",
      "2\n",
      "6\n",
      "5\n",
      "2\n",
      "1\n",
      "4\n",
      "break\n",
      "2\n",
      "6\n",
      "5\n",
      "0\n",
      "1\n",
      "4\n",
      "4\n",
      "break\n",
      "6\n",
      "5\n",
      "7\n",
      "5\n",
      "4\n",
      "4\n",
      "0\n",
      "break\n",
      "5\n",
      "7\n",
      "2\n",
      "5\n",
      "4\n",
      "0\n",
      "5\n",
      "break\n",
      "2\n",
      "5\n",
      "0\n",
      "1\n",
      "5\n",
      "4\n",
      "9\n",
      "break\n",
      "5\n",
      "0\n",
      "5\n",
      "4\n",
      "4\n",
      "9\n",
      "1\n",
      "break\n",
      "0\n",
      "5\n",
      "5\n",
      "4\n",
      "9\n",
      "1\n",
      "8\n",
      "break\n",
      "5\n",
      "5\n",
      "0\n",
      "0\n",
      "1\n",
      "8\n",
      "5\n",
      "break\n",
      "2\n",
      "1\n",
      "4\n",
      "4\n",
      "0\n",
      "0\n",
      "5\n",
      "break\n",
      "1\n",
      "4\n",
      "4\n",
      "9\n",
      "0\n",
      "5\n",
      "4\n",
      "break\n",
      "4\n",
      "4\n",
      "0\n",
      "1\n",
      "5\n",
      "4\n",
      "7\n",
      "break\n",
      "4\n",
      "0\n",
      "5\n",
      "8\n",
      "4\n",
      "7\n",
      "0\n",
      "break\n"
     ]
    }
   ],
   "source": [
    "# This is how you get hour glass shape..\n",
    "for i in range(len(arr)-2):\n",
    "    for j in range(len(arr)-2):\n",
    "        print(arr[i][j])\n",
    "        print(arr[i][j+1])\n",
    "        print(arr[i][j+2])\n",
    "        print(arr[i+1][j+1])\n",
    "        print(arr[i+2][j])\n",
    "        print(arr[i+2][j+1])\n",
    "        print(arr[i+2][j+2])\n",
    "\n",
    "        print(\"break\")"
   ]
  },
  {
   "cell_type": "code",
   "execution_count": 70,
   "metadata": {},
   "outputs": [
    {
     "name": "stdout",
     "output_type": "stream",
     "text": [
      "20\n",
      "29\n",
      "21\n",
      "25\n",
      "26\n",
      "22\n",
      "31\n",
      "28\n",
      "26\n",
      "28\n",
      "32\n",
      "24\n",
      "16\n",
      "27\n",
      "25\n",
      "28\n"
     ]
    }
   ],
   "source": [
    "# Now add them all up individually and get this\n",
    "\n",
    "for i in range(len(arr)-2):\n",
    "    for j in range(len(arr)-2):\n",
    "        print(arr[i][j]+arr[i][j+1]+arr[i][j+2]+arr[i+1][j+1]+arr[i+2][j]+arr[i+2][j+1]+arr[i+2][j+2])\n",
    "        \n",
    "#print(max(sum))"
   ]
  },
  {
   "cell_type": "code",
   "execution_count": 72,
   "metadata": {},
   "outputs": [
    {
     "name": "stdout",
     "output_type": "stream",
     "text": [
      "[20, 29, 21, 25, 26, 22, 31, 28, 26, 28, 32, 24, 16, 27, 25, 28]\n",
      "32\n"
     ]
    }
   ],
   "source": [
    "# Now put it into a sum variable \n",
    "sum = []\n",
    "\n",
    "for i in range(len(arr)-2):\n",
    "    for j in range(len(arr)-2):\n",
    "        sum.append(arr[i][j]+arr[i][j+1]+arr[i][j+2]+arr[i+1][j+1]+arr[i+2][j]+arr[i+2][j+1]+arr[i+2][j+2])\n",
    "        \n",
    "print(sum)\n",
    "print(max(sum))"
   ]
  },
  {
   "cell_type": "code",
   "execution_count": null,
   "metadata": {},
   "outputs": [],
   "source": []
  }
 ],
 "metadata": {
  "kernelspec": {
   "display_name": "Python 3",
   "language": "python",
   "name": "python3"
  },
  "language_info": {
   "codemirror_mode": {
    "name": "ipython",
    "version": 3
   },
   "file_extension": ".py",
   "mimetype": "text/x-python",
   "name": "python",
   "nbconvert_exporter": "python",
   "pygments_lexer": "ipython3",
   "version": "3.8.5"
  }
 },
 "nbformat": 4,
 "nbformat_minor": 4
}
